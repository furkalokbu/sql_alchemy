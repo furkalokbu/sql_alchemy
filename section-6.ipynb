{
 "cells": [
  {
   "cell_type": "markdown",
   "source": [
    "# Section 6 - Migrating to Asynchronous Mode\n",
    "## Initializing Connection to Database"
   ],
   "metadata": {
    "collapsed": false
   },
   "id": "111694148a7dc2fa"
  },
  {
   "cell_type": "code",
   "execution_count": 2,
   "outputs": [],
   "source": [
    "# Import the required modules from SQLAlchemy's async extension\n",
    "from sqlalchemy.ext.asyncio import create_async_engine, async_sessionmaker, AsyncSession\n",
    "from sqlalchemy import URL\n",
    "\n",
    "# Create a URL object for the PostgreSQL database connection\n",
    "url = URL.create(\n",
    "    drivername=\"postgresql+asyncpg\",  # Driver name: PostgreSQL and asyncpg for the async driver\n",
    "    username='testuser',  # Username for the database\n",
    "    password='testpassword',  # Password for the database\n",
    "    host='localhost',  # Host where the database is running\n",
    "    database='testuser',  # Name of the database\n",
    "    port=5432  # Port number to connect to the database\n",
    ").render_as_string(hide_password=False)  # Render the URL as a string. The password is not hidden for demonstration purposes.\n",
    "\n",
    "# Create an asynchronous database engine\n",
    "# echo is set to False to disable SQL logging, making the output cleaner\n",
    "engine = create_async_engine(url, echo=False)\n",
    "\n",
    "# Create an asynchronous session maker bound to the engine\n",
    "session_pool = async_sessionmaker(bind=engine)"
   ],
   "metadata": {
    "collapsed": false,
    "ExecuteTime": {
     "end_time": "2023-10-25T08:53:24.180959700Z",
     "start_time": "2023-10-25T08:53:24.124459300Z"
    }
   },
   "id": "a77121f7830d0acf"
  },
  {
   "cell_type": "markdown",
   "source": [
    "Now let's declare our Users' model again and modify our Repo class to use the async session"
   ],
   "metadata": {
    "collapsed": false
   },
   "id": "54bdea76e3bc0d4b"
  },
  {
   "cell_type": "code",
   "execution_count": 10,
   "outputs": [],
   "source": [
    "from sqlalchemy import insert, select, delete, update, bindparam\n",
    "from typing_extensions import Annotated\n",
    "from typing import Optional\n",
    "from sqlalchemy.ext.declarative import declared_attr\n",
    "\n",
    "import datetime\n",
    "from sqlalchemy.dialects.postgresql import TIMESTAMP\n",
    "from sqlalchemy import ForeignKey, BIGINT\n",
    "\n",
    "from sqlalchemy import String\n",
    "from sqlalchemy.orm import Mapped, relationship\n",
    "from sqlalchemy.orm import mapped_column\n",
    "from sqlalchemy.sql.functions import func\n",
    "\n",
    "from sqlalchemy import INTEGER, VARCHAR, DECIMAL\n",
    "from sqlalchemy.orm import DeclarativeBase\n",
    "\n",
    "\n",
    "# Creating a base class\n",
    "class Base(DeclarativeBase):\n",
    "    pass\n",
    "\n",
    "\n",
    "# Users ForeignKey\n",
    "user_fk = Annotated[\n",
    "    int, mapped_column(BIGINT, ForeignKey(\"users.telegram_id\", ondelete=\"CASCADE\"))\n",
    "]\n",
    "\n",
    "# integer primary key\n",
    "int_pk = Annotated[int, mapped_column(INTEGER, primary_key=True)]\n",
    "\n",
    "# string column with length 255\n",
    "str_255 = Annotated[str, mapped_column(String(255))]\n",
    "\n",
    "\n",
    "class TimestampMixin:\n",
    "    created_at: Mapped[datetime] = mapped_column(TIMESTAMP, server_default=func.now())\n",
    "    # Next line won't work properly on PostgreSQL, because of the way how it handles TIMESTAMP, unfortunately\n",
    "    updated_at: Mapped[datetime] = mapped_column(TIMESTAMP, server_default=func.now(), onupdate=func.now())\n",
    "\n",
    "\n",
    "class TableNameMixin:\n",
    "    @declared_attr.directive\n",
    "    def __tablename__(cls) -> str:\n",
    "        return cls.__name__.lower() + \"s\"\n",
    "\n",
    "\n",
    "class User(Base, TimestampMixin, TableNameMixin):\n",
    "    telegram_id: Mapped[int] = mapped_column(\n",
    "        BIGINT, primary_key=True, autoincrement=False,\n",
    "    )\n",
    "    full_name: Mapped[str_255]\n",
    "    user_name: Mapped[Optional[str_255]]\n",
    "    language_code: Mapped[str] = mapped_column(VARCHAR(10))\n",
    "\n",
    "    # !!! Here I've added ondelete statement, so the referrals won't be deleted\n",
    "    referrer_id: Mapped[Optional[user_fk]] = mapped_column(\n",
    "        BIGINT, ForeignKey('users.telegram_id', ondelete='SET NULL')\n",
    "    )\n",
    "\n",
    "    orders: Mapped[list['Order']] = relationship(back_populates='user')\n",
    "\n",
    "    # We can also add __repr__ method to our class to make it more readable on output\n",
    "    def __repr__(self):\n",
    "        return f'User: {self.full_name} (ID: {self.telegram_id}). Referrer: {self.referrer_id}'\n",
    "\n",
    "\n",
    "class Order(Base, TimestampMixin, TableNameMixin):\n",
    "    order_id: Mapped[int_pk]\n",
    "    user_id: Mapped[user_fk]\n",
    "\n",
    "    # Notice that we encapsulate our association object class \n",
    "    # with quotes to avoid name resolving issues in runtime\n",
    "    products: Mapped[list['OrderProducts']] = relationship()\n",
    "    user: Mapped['User'] = relationship(back_populates='orders')\n",
    "\n",
    "\n",
    "class Product(Base, TimestampMixin, TableNameMixin):\n",
    "    product_id: Mapped[int_pk]\n",
    "    title: Mapped[str_255]\n",
    "    description: Mapped[Optional[str]] = mapped_column(VARCHAR(3000))\n",
    "    price: Mapped[float] = mapped_column(DECIMAL(precision=16, scale=4))\n",
    "    \n",
    "    \n",
    "    # We also add __repr__ method to this class as well to make it more readable on output\n",
    "    def __repr__(self):\n",
    "        return f'Product: {self.title} (ID: {self.product_id}). Price: {self.price}'\n",
    "\n",
    "\n",
    "class OrderProducts(Base, TableNameMixin):\n",
    "    order_id: Mapped[int] = mapped_column(\n",
    "        INTEGER, ForeignKey('orders.order_id', ondelete='CASCADE'), primary_key=True,\n",
    "    )\n",
    "    product_id: Mapped[int] = mapped_column(\n",
    "        INTEGER, ForeignKey('products.product_id', ondelete='RESTRICT'), primary_key=True,\n",
    "    )\n",
    "    quantity: Mapped[int]\n",
    "\n",
    "    product: Mapped['Product'] = relationship()\n",
    "\n",
    "\n",
    "class Repo:\n",
    "    def __init__(self, session: AsyncSession):\n",
    "        self.session = session\n",
    "        \n",
    "    async def add_user(\n",
    "            self,\n",
    "            telegram_id: int,\n",
    "            full_name: str,\n",
    "            language_code: str,\n",
    "            user_name: str = None,\n",
    "            referrer_id: int = None,\n",
    "    ):\n",
    "        stmt = insert(User).values(\n",
    "            telegram_id=telegram_id,\n",
    "            full_name=full_name,\n",
    "            user_name=user_name,\n",
    "            language_code=language_code,\n",
    "            referrer_id=referrer_id,\n",
    "        ).returning(User)\n",
    "        result = await self.session.execute(stmt)\n",
    "        await self.session.commit()\n",
    "        return result.scalars().first()\n",
    "\n",
    "    async def get_all_users(self):\n",
    "        stmt = select(User)\n",
    "        result = await self.session.execute(stmt)\n",
    "        return result.scalars().all()\n",
    "\n",
    "    async def cleanup_users(self):\n",
    "        stmt = delete(User)\n",
    "        await self.session.execute(stmt)\n",
    "        await self.session.commit()"
   ],
   "metadata": {
    "collapsed": false,
    "ExecuteTime": {
     "end_time": "2023-10-25T08:57:52.145380900Z",
     "start_time": "2023-10-25T08:57:52.095379100Z"
    }
   },
   "id": "9fb4f875b9011449"
  },
  {
   "cell_type": "markdown",
   "source": [
    "And let's run these queries:"
   ],
   "metadata": {
    "collapsed": false
   },
   "id": "8fb22296d50923ea"
  },
  {
   "cell_type": "code",
   "execution_count": 13,
   "outputs": [
    {
     "name": "stdout",
     "output_type": "stream",
     "text": [
      "User: Hannah Rangel (ID: 7350). Referrer: None\n",
      "User: Brett Schmidt (ID: 420). Referrer: None\n",
      "User: Rachel Elliott (ID: 3679). Referrer: None\n",
      "User: Henry Hicks (ID: 9607). Referrer: None\n",
      "User: Scott Hurst (ID: 8979). Referrer: None\n",
      "User: Daniel Leonard (ID: 7300). Referrer: None\n",
      "User: Grace Graham (ID: 4071). Referrer: None\n",
      "User: Natasha Becker (ID: 7742). Referrer: None\n",
      "User: Pamela Flores (ID: 2803). Referrer: None\n",
      "User: Mrs. Lauren Robles (ID: 6030). Referrer: None\n"
     ]
    }
   ],
   "source": [
    "from faker import Faker\n",
    "\n",
    "fake = Faker()\n",
    "\n",
    "# !!! You can run the async code in the Jupyter Notebook, but in a usual Python script you'll need to use asyncio.run() to run the async code\n",
    "async with session_pool() as session:\n",
    "    repo = Repo(session)\n",
    "    \n",
    "    # firstly, let's clean up the database\n",
    "    await repo.cleanup_users()\n",
    "    \n",
    "    # Loop to add 10 new users to the database\n",
    "    for _ in range(10):\n",
    "        await repo.add_user(\n",
    "            telegram_id=fake.pyint(),  # Generates a random integer\n",
    "            full_name=fake.name(),  # Generates a random full name\n",
    "            language_code=fake.language_code(),  # Generates a random language code (e.g., \"en\")\n",
    "            user_name=fake.user_name(),  # Generates a random username\n",
    "        )\n",
    "        \n",
    "    for user in await repo.get_all_users():\n",
    "        print(user)\n",
    "            "
   ],
   "metadata": {
    "collapsed": false,
    "ExecuteTime": {
     "end_time": "2023-10-25T09:00:29.984505800Z",
     "start_time": "2023-10-25T09:00:29.794003800Z"
    }
   },
   "id": "fceed51f7fbd1df9"
  },
  {
   "cell_type": "code",
   "execution_count": null,
   "outputs": [],
   "source": [],
   "metadata": {
    "collapsed": false
   },
   "id": "1299ff88e3906e82"
  }
 ],
 "metadata": {
  "kernelspec": {
   "display_name": "Python 3",
   "language": "python",
   "name": "python3"
  },
  "language_info": {
   "codemirror_mode": {
    "name": "ipython",
    "version": 2
   },
   "file_extension": ".py",
   "mimetype": "text/x-python",
   "name": "python",
   "nbconvert_exporter": "python",
   "pygments_lexer": "ipython2",
   "version": "2.7.6"
  }
 },
 "nbformat": 4,
 "nbformat_minor": 5
}
